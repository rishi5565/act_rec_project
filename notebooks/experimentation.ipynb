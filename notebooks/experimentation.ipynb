{
 "cells": [
  {
   "cell_type": "code",
   "execution_count": 6,
   "metadata": {},
   "outputs": [],
   "source": [
    "import pandas as pd\n",
    "import os"
   ]
  },
  {
   "cell_type": "code",
   "execution_count": 7,
   "metadata": {},
   "outputs": [
    {
     "data": {
      "text/plain": [
       "['.gitkeep',\n",
       " 'bending1',\n",
       " 'bending2',\n",
       " 'cycling',\n",
       " 'lying',\n",
       " 'sitting',\n",
       " 'standing',\n",
       " 'walking']"
      ]
     },
     "execution_count": 7,
     "metadata": {},
     "output_type": "execute_result"
    }
   ],
   "source": [
    "os.listdir(\"C:\\\\Workspace\\\\activity_recognition_project\\\\data\\\\external\")"
   ]
  },
  {
   "cell_type": "code",
   "execution_count": 8,
   "metadata": {},
   "outputs": [
    {
     "name": "stdout",
     "output_type": "stream",
     "text": [
      "89 86 3\n"
     ]
    }
   ],
   "source": [
    "read = 0\n",
    "failed = 0\n",
    "looped = 0\n",
    "flist = []\n",
    "for root, dirs, files in os.walk(\"C:\\\\Workspace\\\\activity_recognition_project\\\\data\\\\external\"):\n",
    "    for name in files:\n",
    "        looped += 1\n",
    "        try:\n",
    "            pd.read_csv(os.path.join(root,name), header=4)\n",
    "            read += 1\n",
    "        except:\n",
    "            failed += 1\n",
    "            flist.append(os.path.join(root,name))\n",
    "print(looped, read, failed)"
   ]
  },
  {
   "cell_type": "code",
   "execution_count": 9,
   "metadata": {},
   "outputs": [
    {
     "data": {
      "text/plain": [
       "['C:\\\\Workspace\\\\activity_recognition_project\\\\data\\\\external\\\\.gitkeep',\n",
       " 'C:\\\\Workspace\\\\activity_recognition_project\\\\data\\\\external\\\\cycling\\\\dataset14.csv',\n",
       " 'C:\\\\Workspace\\\\activity_recognition_project\\\\data\\\\external\\\\cycling\\\\dataset9.csv']"
      ]
     },
     "execution_count": 9,
     "metadata": {},
     "output_type": "execute_result"
    }
   ],
   "source": [
    "flist"
   ]
  },
  {
   "cell_type": "code",
   "execution_count": 10,
   "metadata": {},
   "outputs": [],
   "source": [
    "col_name_list = ['# Columns: time', 'avg_rss12', 'var_rss12', 'avg_rss13', 'var_rss13', 'avg_rss23', 'var_rss23']\n",
    "\n",
    "col_dtype_list = ['int64', 'float64', 'float64', 'float64', 'float64', 'float64', 'float64']\n",
    "\n",
    "\n",
    "error_files = []\n",
    "df = pd.DataFrame()\n",
    "for root, dirs, files in os.walk(\"C:\\\\Workspace\\\\activity_recognition_project\\\\data\\\\external\"):\n",
    "    for name in files:\n",
    "        try:\n",
    "            subdf = pd.read_csv(os.path.join(root, name), header=4)\n",
    "            if list(subdf.columns) == col_name_list: # col names validation\n",
    "                if list(subdf.dtypes) == col_dtype_list: # col dtypes validation\n",
    "                    with open(os.path.join(root, name)) as f:\n",
    "                        subdf[\"label\"] = f.readlines()[0]\n",
    "                        f.close()\n",
    "                    df = pd.concat([df, subdf], axis=0, ignore_index=True)\n",
    "                else:\n",
    "                    error_files.append(os.path.join(root, name))\n",
    "            else:\n",
    "                error_files.append(os.path.join(root, name))\n",
    "        except:\n",
    "            error_files.append(os.path.join(root, name))"
   ]
  },
  {
   "cell_type": "code",
   "execution_count": 73,
   "metadata": {},
   "outputs": [],
   "source": [
    "import numpy as np"
   ]
  },
  {
   "cell_type": "code",
   "execution_count": 82,
   "metadata": {},
   "outputs": [
    {
     "data": {
      "text/plain": [
       "True"
      ]
     },
     "execution_count": 82,
     "metadata": {},
     "output_type": "execute_result"
    }
   ],
   "source": [
    "pd.DataFrame.equals(df, df.dropna())"
   ]
  },
  {
   "cell_type": "code",
   "execution_count": 103,
   "metadata": {},
   "outputs": [
    {
     "data": {
      "text/html": [
       "<div>\n",
       "<style scoped>\n",
       "    .dataframe tbody tr th:only-of-type {\n",
       "        vertical-align: middle;\n",
       "    }\n",
       "\n",
       "    .dataframe tbody tr th {\n",
       "        vertical-align: top;\n",
       "    }\n",
       "\n",
       "    .dataframe thead th {\n",
       "        text-align: right;\n",
       "    }\n",
       "</style>\n",
       "<table border=\"1\" class=\"dataframe\">\n",
       "  <thead>\n",
       "    <tr style=\"text-align: right;\">\n",
       "      <th></th>\n",
       "      <th># Columns: time</th>\n",
       "      <th>avg_rss12</th>\n",
       "      <th>var_rss12</th>\n",
       "      <th>avg_rss13</th>\n",
       "      <th>var_rss13</th>\n",
       "      <th>avg_rss23</th>\n",
       "      <th>var_rss23</th>\n",
       "    </tr>\n",
       "  </thead>\n",
       "  <tbody>\n",
       "    <tr>\n",
       "      <th>0</th>\n",
       "      <td>0</td>\n",
       "      <td>27.00</td>\n",
       "      <td>0.00</td>\n",
       "      <td>24.00</td>\n",
       "      <td>0.00</td>\n",
       "      <td>19.00</td>\n",
       "      <td>1.00</td>\n",
       "    </tr>\n",
       "    <tr>\n",
       "      <th>1</th>\n",
       "      <td>250</td>\n",
       "      <td>27.00</td>\n",
       "      <td>0.00</td>\n",
       "      <td>24.00</td>\n",
       "      <td>0.00</td>\n",
       "      <td>19.75</td>\n",
       "      <td>0.83</td>\n",
       "    </tr>\n",
       "    <tr>\n",
       "      <th>2</th>\n",
       "      <td>500</td>\n",
       "      <td>27.00</td>\n",
       "      <td>0.00</td>\n",
       "      <td>23.50</td>\n",
       "      <td>0.50</td>\n",
       "      <td>20.00</td>\n",
       "      <td>1.22</td>\n",
       "    </tr>\n",
       "    <tr>\n",
       "      <th>3</th>\n",
       "      <td>750</td>\n",
       "      <td>27.00</td>\n",
       "      <td>0.00</td>\n",
       "      <td>24.00</td>\n",
       "      <td>0.00</td>\n",
       "      <td>14.75</td>\n",
       "      <td>1.48</td>\n",
       "    </tr>\n",
       "    <tr>\n",
       "      <th>4</th>\n",
       "      <td>1000</td>\n",
       "      <td>27.00</td>\n",
       "      <td>0.00</td>\n",
       "      <td>23.75</td>\n",
       "      <td>0.43</td>\n",
       "      <td>14.50</td>\n",
       "      <td>1.50</td>\n",
       "    </tr>\n",
       "    <tr>\n",
       "      <th>...</th>\n",
       "      <td>...</td>\n",
       "      <td>...</td>\n",
       "      <td>...</td>\n",
       "      <td>...</td>\n",
       "      <td>...</td>\n",
       "      <td>...</td>\n",
       "      <td>...</td>\n",
       "    </tr>\n",
       "    <tr>\n",
       "      <th>475</th>\n",
       "      <td>118750</td>\n",
       "      <td>23.00</td>\n",
       "      <td>0.71</td>\n",
       "      <td>11.25</td>\n",
       "      <td>2.49</td>\n",
       "      <td>26.75</td>\n",
       "      <td>1.92</td>\n",
       "    </tr>\n",
       "    <tr>\n",
       "      <th>476</th>\n",
       "      <td>119000</td>\n",
       "      <td>22.25</td>\n",
       "      <td>0.43</td>\n",
       "      <td>15.50</td>\n",
       "      <td>0.87</td>\n",
       "      <td>29.50</td>\n",
       "      <td>1.50</td>\n",
       "    </tr>\n",
       "    <tr>\n",
       "      <th>477</th>\n",
       "      <td>119250</td>\n",
       "      <td>23.75</td>\n",
       "      <td>0.43</td>\n",
       "      <td>17.67</td>\n",
       "      <td>0.47</td>\n",
       "      <td>25.67</td>\n",
       "      <td>3.09</td>\n",
       "    </tr>\n",
       "    <tr>\n",
       "      <th>478</th>\n",
       "      <td>119500</td>\n",
       "      <td>24.25</td>\n",
       "      <td>0.43</td>\n",
       "      <td>13.33</td>\n",
       "      <td>1.25</td>\n",
       "      <td>30.00</td>\n",
       "      <td>2.45</td>\n",
       "    </tr>\n",
       "    <tr>\n",
       "      <th>479</th>\n",
       "      <td>119750</td>\n",
       "      <td>25.33</td>\n",
       "      <td>0.47</td>\n",
       "      <td>14.75</td>\n",
       "      <td>1.09</td>\n",
       "      <td>25.33</td>\n",
       "      <td>3.68</td>\n",
       "    </tr>\n",
       "  </tbody>\n",
       "</table>\n",
       "<p>480 rows × 7 columns</p>\n",
       "</div>"
      ],
      "text/plain": [
       "     # Columns: time  avg_rss12  var_rss12  avg_rss13  var_rss13  avg_rss23  \\\n",
       "0                  0      27.00       0.00      24.00       0.00      19.00   \n",
       "1                250      27.00       0.00      24.00       0.00      19.75   \n",
       "2                500      27.00       0.00      23.50       0.50      20.00   \n",
       "3                750      27.00       0.00      24.00       0.00      14.75   \n",
       "4               1000      27.00       0.00      23.75       0.43      14.50   \n",
       "..               ...        ...        ...        ...        ...        ...   \n",
       "475           118750      23.00       0.71      11.25       2.49      26.75   \n",
       "476           119000      22.25       0.43      15.50       0.87      29.50   \n",
       "477           119250      23.75       0.43      17.67       0.47      25.67   \n",
       "478           119500      24.25       0.43      13.33       1.25      30.00   \n",
       "479           119750      25.33       0.47      14.75       1.09      25.33   \n",
       "\n",
       "     var_rss23  \n",
       "0         1.00  \n",
       "1         0.83  \n",
       "2         1.22  \n",
       "3         1.48  \n",
       "4         1.50  \n",
       "..         ...  \n",
       "475       1.92  \n",
       "476       1.50  \n",
       "477       3.09  \n",
       "478       2.45  \n",
       "479       3.68  \n",
       "\n",
       "[480 rows x 7 columns]"
      ]
     },
     "execution_count": 103,
     "metadata": {},
     "output_type": "execute_result"
    }
   ],
   "source": [
    "file = \"C:\\\\Workspace\\\\activity_recognition_project\\\\data\\\\external\\\\bending2\\\\dataset2.csv\"\n",
    "pd.read_csv(file, header=4)"
   ]
  },
  {
   "cell_type": "code",
   "execution_count": 106,
   "metadata": {},
   "outputs": [
    {
     "name": "stdout",
     "output_type": "stream",
     "text": [
      "bending2\n",
      "\n"
     ]
    }
   ],
   "source": [
    "with open(file, \"r\") as f:\n",
    "    print(f.readline().split(\" \")[-1])"
   ]
  },
  {
   "cell_type": "code",
   "execution_count": 111,
   "metadata": {},
   "outputs": [],
   "source": [
    "df.to_csv(os.path.join(\"werew\")+\".csv\")"
   ]
  },
  {
   "cell_type": "code",
   "execution_count": 59,
   "metadata": {},
   "outputs": [
    {
     "name": "stdout",
     "output_type": "stream",
     "text": [
      "['.gitkeep']\n",
      "['dataset1.csv', 'dataset2.csv', 'dataset3.csv', 'dataset4.csv', 'dataset5.csv', 'dataset6.csv', 'dataset7.csv']\n",
      "['dataset1.csv', 'dataset2.csv', 'dataset3.csv', 'dataset4.csv', 'dataset5.csv', 'dataset6.csv']\n",
      "['dataset1.csv', 'dataset10.csv', 'dataset11.csv', 'dataset12.csv', 'dataset13.csv', 'dataset14.csv', 'dataset15.csv', 'dataset2.csv', 'dataset3.csv', 'dataset4.csv', 'dataset5.csv', 'dataset6.csv', 'dataset7.csv', 'dataset8.csv', 'dataset9.csv']\n",
      "['dataset1.csv', 'dataset10.csv', 'dataset11.csv', 'dataset12.csv', 'dataset13.csv', 'dataset14.csv', 'dataset15.csv', 'dataset2.csv', 'dataset3.csv', 'dataset4.csv', 'dataset5.csv', 'dataset6.csv', 'dataset7.csv', 'dataset8.csv', 'dataset9.csv']\n",
      "['dataset1.csv', 'dataset10.csv', 'dataset11.csv', 'dataset12.csv', 'dataset13.csv', 'dataset14.csv', 'dataset15.csv', 'dataset2.csv', 'dataset3.csv', 'dataset4.csv', 'dataset5.csv', 'dataset6.csv', 'dataset7.csv', 'dataset8.csv', 'dataset9.csv']\n",
      "['dataset1.csv', 'dataset10.csv', 'dataset11.csv', 'dataset12.csv', 'dataset13.csv', 'dataset14.csv', 'dataset15.csv', 'dataset2.csv', 'dataset3.csv', 'dataset4.csv', 'dataset5.csv', 'dataset6.csv', 'dataset7.csv', 'dataset8.csv', 'dataset9.csv']\n",
      "['dataset1.csv', 'dataset10.csv', 'dataset11.csv', 'dataset12.csv', 'dataset13.csv', 'dataset14.csv', 'dataset15.csv', 'dataset2.csv', 'dataset3.csv', 'dataset4.csv', 'dataset5.csv', 'dataset6.csv', 'dataset7.csv', 'dataset8.csv', 'dataset9.csv']\n"
     ]
    }
   ],
   "source": [
    "r, d, f = \"\", \"\", \"\"\n",
    "for root, dirs, files in os.walk(\"C:\\\\Workspace\\\\activity_recognition_project\\\\data\\\\external\"):\n",
    "    print(files)"
   ]
  },
  {
   "cell_type": "code",
   "execution_count": 60,
   "metadata": {},
   "outputs": [
    {
     "data": {
      "text/plain": [
       "''"
      ]
     },
     "execution_count": 60,
     "metadata": {},
     "output_type": "execute_result"
    }
   ],
   "source": [
    "f"
   ]
  },
  {
   "cell_type": "code",
   "execution_count": 54,
   "metadata": {},
   "outputs": [
    {
     "name": "stdout",
     "output_type": "stream",
     "text": [
      "ok\n"
     ]
    }
   ],
   "source": [
    "import re\n",
    "regex = r'(.*)\\.csv'\n",
    "if(re.match(regex, \"dataset.csv\")):\n",
    "    print(\"ok\")"
   ]
  },
  {
   "cell_type": "code",
   "execution_count": 11,
   "metadata": {},
   "outputs": [
    {
     "data": {
      "text/html": [
       "<div>\n",
       "<style scoped>\n",
       "    .dataframe tbody tr th:only-of-type {\n",
       "        vertical-align: middle;\n",
       "    }\n",
       "\n",
       "    .dataframe tbody tr th {\n",
       "        vertical-align: top;\n",
       "    }\n",
       "\n",
       "    .dataframe thead th {\n",
       "        text-align: right;\n",
       "    }\n",
       "</style>\n",
       "<table border=\"1\" class=\"dataframe\">\n",
       "  <thead>\n",
       "    <tr style=\"text-align: right;\">\n",
       "      <th></th>\n",
       "      <th># Columns: time</th>\n",
       "      <th>avg_rss12</th>\n",
       "      <th>var_rss12</th>\n",
       "      <th>avg_rss13</th>\n",
       "      <th>var_rss13</th>\n",
       "      <th>avg_rss23</th>\n",
       "      <th>var_rss23</th>\n",
       "      <th>label</th>\n",
       "    </tr>\n",
       "  </thead>\n",
       "  <tbody>\n",
       "    <tr>\n",
       "      <th>0</th>\n",
       "      <td>0</td>\n",
       "      <td>39.25</td>\n",
       "      <td>0.43</td>\n",
       "      <td>22.75</td>\n",
       "      <td>0.43</td>\n",
       "      <td>33.75</td>\n",
       "      <td>1.30</td>\n",
       "      <td># Task: bending1\\n</td>\n",
       "    </tr>\n",
       "    <tr>\n",
       "      <th>1</th>\n",
       "      <td>250</td>\n",
       "      <td>39.25</td>\n",
       "      <td>0.43</td>\n",
       "      <td>23.00</td>\n",
       "      <td>0.00</td>\n",
       "      <td>33.00</td>\n",
       "      <td>0.00</td>\n",
       "      <td># Task: bending1\\n</td>\n",
       "    </tr>\n",
       "    <tr>\n",
       "      <th>2</th>\n",
       "      <td>500</td>\n",
       "      <td>39.25</td>\n",
       "      <td>0.43</td>\n",
       "      <td>23.25</td>\n",
       "      <td>0.43</td>\n",
       "      <td>33.00</td>\n",
       "      <td>0.00</td>\n",
       "      <td># Task: bending1\\n</td>\n",
       "    </tr>\n",
       "    <tr>\n",
       "      <th>3</th>\n",
       "      <td>750</td>\n",
       "      <td>39.50</td>\n",
       "      <td>0.50</td>\n",
       "      <td>23.00</td>\n",
       "      <td>0.71</td>\n",
       "      <td>33.00</td>\n",
       "      <td>0.00</td>\n",
       "      <td># Task: bending1\\n</td>\n",
       "    </tr>\n",
       "    <tr>\n",
       "      <th>4</th>\n",
       "      <td>1000</td>\n",
       "      <td>39.50</td>\n",
       "      <td>0.50</td>\n",
       "      <td>24.00</td>\n",
       "      <td>0.00</td>\n",
       "      <td>33.00</td>\n",
       "      <td>0.00</td>\n",
       "      <td># Task: bending1\\n</td>\n",
       "    </tr>\n",
       "    <tr>\n",
       "      <th>...</th>\n",
       "      <td>...</td>\n",
       "      <td>...</td>\n",
       "      <td>...</td>\n",
       "      <td>...</td>\n",
       "      <td>...</td>\n",
       "      <td>...</td>\n",
       "      <td>...</td>\n",
       "      <td>...</td>\n",
       "    </tr>\n",
       "    <tr>\n",
       "      <th>40794</th>\n",
       "      <td>118750</td>\n",
       "      <td>31.50</td>\n",
       "      <td>1.66</td>\n",
       "      <td>12.50</td>\n",
       "      <td>3.20</td>\n",
       "      <td>14.25</td>\n",
       "      <td>4.44</td>\n",
       "      <td># Task: walking\\n</td>\n",
       "    </tr>\n",
       "    <tr>\n",
       "      <th>40795</th>\n",
       "      <td>119000</td>\n",
       "      <td>27.33</td>\n",
       "      <td>1.25</td>\n",
       "      <td>11.33</td>\n",
       "      <td>0.94</td>\n",
       "      <td>20.00</td>\n",
       "      <td>4.00</td>\n",
       "      <td># Task: walking\\n</td>\n",
       "    </tr>\n",
       "    <tr>\n",
       "      <th>40796</th>\n",
       "      <td>119250</td>\n",
       "      <td>37.80</td>\n",
       "      <td>7.68</td>\n",
       "      <td>14.20</td>\n",
       "      <td>2.48</td>\n",
       "      <td>17.25</td>\n",
       "      <td>0.83</td>\n",
       "      <td># Task: walking\\n</td>\n",
       "    </tr>\n",
       "    <tr>\n",
       "      <th>40797</th>\n",
       "      <td>119500</td>\n",
       "      <td>33.75</td>\n",
       "      <td>1.30</td>\n",
       "      <td>15.75</td>\n",
       "      <td>5.21</td>\n",
       "      <td>16.50</td>\n",
       "      <td>2.69</td>\n",
       "      <td># Task: walking\\n</td>\n",
       "    </tr>\n",
       "    <tr>\n",
       "      <th>40798</th>\n",
       "      <td>119750</td>\n",
       "      <td>32.67</td>\n",
       "      <td>3.09</td>\n",
       "      <td>18.67</td>\n",
       "      <td>0.47</td>\n",
       "      <td>14.00</td>\n",
       "      <td>3.16</td>\n",
       "      <td># Task: walking\\n</td>\n",
       "    </tr>\n",
       "  </tbody>\n",
       "</table>\n",
       "<p>40799 rows × 8 columns</p>\n",
       "</div>"
      ],
      "text/plain": [
       "       # Columns: time  avg_rss12  var_rss12  avg_rss13  var_rss13  avg_rss23  \\\n",
       "0                    0      39.25       0.43      22.75       0.43      33.75   \n",
       "1                  250      39.25       0.43      23.00       0.00      33.00   \n",
       "2                  500      39.25       0.43      23.25       0.43      33.00   \n",
       "3                  750      39.50       0.50      23.00       0.71      33.00   \n",
       "4                 1000      39.50       0.50      24.00       0.00      33.00   \n",
       "...                ...        ...        ...        ...        ...        ...   \n",
       "40794           118750      31.50       1.66      12.50       3.20      14.25   \n",
       "40795           119000      27.33       1.25      11.33       0.94      20.00   \n",
       "40796           119250      37.80       7.68      14.20       2.48      17.25   \n",
       "40797           119500      33.75       1.30      15.75       5.21      16.50   \n",
       "40798           119750      32.67       3.09      18.67       0.47      14.00   \n",
       "\n",
       "       var_rss23               label  \n",
       "0           1.30  # Task: bending1\\n  \n",
       "1           0.00  # Task: bending1\\n  \n",
       "2           0.00  # Task: bending1\\n  \n",
       "3           0.00  # Task: bending1\\n  \n",
       "4           0.00  # Task: bending1\\n  \n",
       "...          ...                 ...  \n",
       "40794       4.44   # Task: walking\\n  \n",
       "40795       4.00   # Task: walking\\n  \n",
       "40796       0.83   # Task: walking\\n  \n",
       "40797       2.69   # Task: walking\\n  \n",
       "40798       3.16   # Task: walking\\n  \n",
       "\n",
       "[40799 rows x 8 columns]"
      ]
     },
     "execution_count": 11,
     "metadata": {},
     "output_type": "execute_result"
    }
   ],
   "source": [
    "df"
   ]
  },
  {
   "cell_type": "code",
   "execution_count": 12,
   "metadata": {},
   "outputs": [
    {
     "data": {
      "text/plain": [
       "['C:\\\\Workspace\\\\activity_recognition_project\\\\data\\\\external\\\\.gitkeep',\n",
       " 'C:\\\\Workspace\\\\activity_recognition_project\\\\data\\\\external\\\\bending2\\\\dataset4.csv',\n",
       " 'C:\\\\Workspace\\\\activity_recognition_project\\\\data\\\\external\\\\cycling\\\\dataset14.csv',\n",
       " 'C:\\\\Workspace\\\\activity_recognition_project\\\\data\\\\external\\\\cycling\\\\dataset9.csv']"
      ]
     },
     "execution_count": 12,
     "metadata": {},
     "output_type": "execute_result"
    }
   ],
   "source": [
    "error_files"
   ]
  },
  {
   "cell_type": "code",
   "execution_count": 13,
   "metadata": {},
   "outputs": [
    {
     "data": {
      "text/plain": [
       "# Columns: time    0\n",
       "avg_rss12          0\n",
       "var_rss12          0\n",
       "avg_rss13          0\n",
       "var_rss13          0\n",
       "avg_rss23          0\n",
       "var_rss23          0\n",
       "label              0\n",
       "dtype: int64"
      ]
     },
     "execution_count": 13,
     "metadata": {},
     "output_type": "execute_result"
    }
   ],
   "source": [
    "df.isna().sum()"
   ]
  },
  {
   "cell_type": "code",
   "execution_count": 14,
   "metadata": {},
   "outputs": [
    {
     "data": {
      "text/html": [
       "<div>\n",
       "<style scoped>\n",
       "    .dataframe tbody tr th:only-of-type {\n",
       "        vertical-align: middle;\n",
       "    }\n",
       "\n",
       "    .dataframe tbody tr th {\n",
       "        vertical-align: top;\n",
       "    }\n",
       "\n",
       "    .dataframe thead th {\n",
       "        text-align: right;\n",
       "    }\n",
       "</style>\n",
       "<table border=\"1\" class=\"dataframe\">\n",
       "  <thead>\n",
       "    <tr style=\"text-align: right;\">\n",
       "      <th></th>\n",
       "      <th># Columns: time</th>\n",
       "      <th>avg_rss12</th>\n",
       "      <th>var_rss12</th>\n",
       "      <th>avg_rss13</th>\n",
       "      <th>var_rss13</th>\n",
       "      <th>avg_rss23</th>\n",
       "      <th>var_rss23</th>\n",
       "    </tr>\n",
       "  </thead>\n",
       "  <tbody>\n",
       "    <tr>\n",
       "      <th>0</th>\n",
       "      <td>0</td>\n",
       "      <td>34.50</td>\n",
       "      <td>4.39</td>\n",
       "      <td>19.50</td>\n",
       "      <td>3.20</td>\n",
       "      <td>18.00</td>\n",
       "      <td>3.54</td>\n",
       "    </tr>\n",
       "    <tr>\n",
       "      <th>1</th>\n",
       "      <td>250</td>\n",
       "      <td>36.00</td>\n",
       "      <td>3.08</td>\n",
       "      <td>15.00</td>\n",
       "      <td>5.20</td>\n",
       "      <td>12.00</td>\n",
       "      <td>3.56</td>\n",
       "    </tr>\n",
       "    <tr>\n",
       "      <th>2</th>\n",
       "      <td>500</td>\n",
       "      <td>42.75</td>\n",
       "      <td>0.83</td>\n",
       "      <td>10.00</td>\n",
       "      <td>4.55</td>\n",
       "      <td>9.25</td>\n",
       "      <td>2.38</td>\n",
       "    </tr>\n",
       "    <tr>\n",
       "      <th>3</th>\n",
       "      <td>750</td>\n",
       "      <td>40.00</td>\n",
       "      <td>2.83</td>\n",
       "      <td>17.67</td>\n",
       "      <td>1.89</td>\n",
       "      <td>14.25</td>\n",
       "      <td>1.92</td>\n",
       "    </tr>\n",
       "    <tr>\n",
       "      <th>4</th>\n",
       "      <td>1000</td>\n",
       "      <td>34.25</td>\n",
       "      <td>3.03</td>\n",
       "      <td>14.25</td>\n",
       "      <td>5.36</td>\n",
       "      <td>20.00</td>\n",
       "      <td>1.22</td>\n",
       "    </tr>\n",
       "    <tr>\n",
       "      <th>...</th>\n",
       "      <td>...</td>\n",
       "      <td>...</td>\n",
       "      <td>...</td>\n",
       "      <td>...</td>\n",
       "      <td>...</td>\n",
       "      <td>...</td>\n",
       "      <td>...</td>\n",
       "    </tr>\n",
       "    <tr>\n",
       "      <th>475</th>\n",
       "      <td>118750</td>\n",
       "      <td>36.75</td>\n",
       "      <td>2.86</td>\n",
       "      <td>20.75</td>\n",
       "      <td>4.55</td>\n",
       "      <td>15.25</td>\n",
       "      <td>3.77</td>\n",
       "    </tr>\n",
       "    <tr>\n",
       "      <th>476</th>\n",
       "      <td>119000</td>\n",
       "      <td>38.75</td>\n",
       "      <td>1.09</td>\n",
       "      <td>18.25</td>\n",
       "      <td>4.92</td>\n",
       "      <td>20.25</td>\n",
       "      <td>2.59</td>\n",
       "    </tr>\n",
       "    <tr>\n",
       "      <th>477</th>\n",
       "      <td>119250</td>\n",
       "      <td>42.50</td>\n",
       "      <td>0.87</td>\n",
       "      <td>12.50</td>\n",
       "      <td>4.15</td>\n",
       "      <td>15.75</td>\n",
       "      <td>5.76</td>\n",
       "    </tr>\n",
       "    <tr>\n",
       "      <th>478</th>\n",
       "      <td>119500</td>\n",
       "      <td>36.25</td>\n",
       "      <td>3.90</td>\n",
       "      <td>19.00</td>\n",
       "      <td>3.74</td>\n",
       "      <td>23.67</td>\n",
       "      <td>2.49</td>\n",
       "    </tr>\n",
       "    <tr>\n",
       "      <th>479</th>\n",
       "      <td>119750</td>\n",
       "      <td>29.75</td>\n",
       "      <td>4.60</td>\n",
       "      <td>22.25</td>\n",
       "      <td>4.26</td>\n",
       "      <td>20.50</td>\n",
       "      <td>2.87</td>\n",
       "    </tr>\n",
       "  </tbody>\n",
       "</table>\n",
       "<p>480 rows × 7 columns</p>\n",
       "</div>"
      ],
      "text/plain": [
       "     # Columns: time  avg_rss12  var_rss12  avg_rss13  var_rss13  avg_rss23  \\\n",
       "0                  0      34.50       4.39      19.50       3.20      18.00   \n",
       "1                250      36.00       3.08      15.00       5.20      12.00   \n",
       "2                500      42.75       0.83      10.00       4.55       9.25   \n",
       "3                750      40.00       2.83      17.67       1.89      14.25   \n",
       "4               1000      34.25       3.03      14.25       5.36      20.00   \n",
       "..               ...        ...        ...        ...        ...        ...   \n",
       "475           118750      36.75       2.86      20.75       4.55      15.25   \n",
       "476           119000      38.75       1.09      18.25       4.92      20.25   \n",
       "477           119250      42.50       0.87      12.50       4.15      15.75   \n",
       "478           119500      36.25       3.90      19.00       3.74      23.67   \n",
       "479           119750      29.75       4.60      22.25       4.26      20.50   \n",
       "\n",
       "     var_rss23  \n",
       "0         3.54  \n",
       "1         3.56  \n",
       "2         2.38  \n",
       "3         1.92  \n",
       "4         1.22  \n",
       "..         ...  \n",
       "475       3.77  \n",
       "476       2.59  \n",
       "477       5.76  \n",
       "478       2.49  \n",
       "479       2.87  \n",
       "\n",
       "[480 rows x 7 columns]"
      ]
     },
     "execution_count": 14,
     "metadata": {},
     "output_type": "execute_result"
    }
   ],
   "source": [
    "dfx = pd.read_csv('C:\\\\Workspace\\\\activity_recognition_project\\\\data\\\\external\\\\cycling\\\\dataset13.csv', header=4)\n",
    "dfx"
   ]
  },
  {
   "cell_type": "code",
   "execution_count": 15,
   "metadata": {},
   "outputs": [
    {
     "data": {
      "text/plain": [
       "True"
      ]
     },
     "execution_count": 15,
     "metadata": {},
     "output_type": "execute_result"
    }
   ],
   "source": [
    "dfx[\"avg_rss12\"].dtypes == \"float64\""
   ]
  },
  {
   "cell_type": "code",
   "execution_count": 16,
   "metadata": {},
   "outputs": [
    {
     "data": {
      "text/plain": [
       "['int64', 'float64', 'float64', 'float64', 'float64', 'float64', 'float64']"
      ]
     },
     "execution_count": 16,
     "metadata": {},
     "output_type": "execute_result"
    }
   ],
   "source": [
    "col_dtype_list = []\n",
    "for i in dfx.dtypes:\n",
    "    col_dtype_list.append(str(i))\n",
    "col_dtype_list"
   ]
  },
  {
   "cell_type": "code",
   "execution_count": 17,
   "metadata": {},
   "outputs": [
    {
     "data": {
      "text/plain": [
       "True"
      ]
     },
     "execution_count": 17,
     "metadata": {},
     "output_type": "execute_result"
    }
   ],
   "source": [
    "list(dfx.dtypes) == col_dtype_list"
   ]
  },
  {
   "cell_type": "code",
   "execution_count": 18,
   "metadata": {},
   "outputs": [],
   "source": [
    "from sklearn.preprocessing import LabelEncoder, StandardScaler\n",
    "from sklearn.model_selection import train_test_split"
   ]
  },
  {
   "cell_type": "code",
   "execution_count": 19,
   "metadata": {},
   "outputs": [
    {
     "data": {
      "text/plain": [
       "# Task: lying\\n       7200\n",
       "# Task: standing\\n    7200\n",
       "# Task: walking\\n     7200\n",
       "# Task: sitting\\n     7199\n",
       "# Task: cycling\\n     6240\n",
       "# Task: bending1\\n    3360\n",
       "# Task: bending2\\n    2400\n",
       "Name: label, dtype: int64"
      ]
     },
     "execution_count": 19,
     "metadata": {},
     "output_type": "execute_result"
    }
   ],
   "source": [
    "df[\"label\"].value_counts()"
   ]
  },
  {
   "cell_type": "code",
   "execution_count": 20,
   "metadata": {},
   "outputs": [
    {
     "data": {
      "text/html": [
       "<div>\n",
       "<style scoped>\n",
       "    .dataframe tbody tr th:only-of-type {\n",
       "        vertical-align: middle;\n",
       "    }\n",
       "\n",
       "    .dataframe tbody tr th {\n",
       "        vertical-align: top;\n",
       "    }\n",
       "\n",
       "    .dataframe thead th {\n",
       "        text-align: right;\n",
       "    }\n",
       "</style>\n",
       "<table border=\"1\" class=\"dataframe\">\n",
       "  <thead>\n",
       "    <tr style=\"text-align: right;\">\n",
       "      <th></th>\n",
       "      <th># Columns: time</th>\n",
       "      <th>avg_rss12</th>\n",
       "      <th>var_rss12</th>\n",
       "      <th>avg_rss13</th>\n",
       "      <th>var_rss13</th>\n",
       "      <th>avg_rss23</th>\n",
       "      <th>var_rss23</th>\n",
       "      <th>label</th>\n",
       "    </tr>\n",
       "  </thead>\n",
       "  <tbody>\n",
       "    <tr>\n",
       "      <th>0</th>\n",
       "      <td>0</td>\n",
       "      <td>39.25</td>\n",
       "      <td>0.43</td>\n",
       "      <td>22.75</td>\n",
       "      <td>0.43</td>\n",
       "      <td>33.75</td>\n",
       "      <td>1.30</td>\n",
       "      <td>0</td>\n",
       "    </tr>\n",
       "    <tr>\n",
       "      <th>1</th>\n",
       "      <td>250</td>\n",
       "      <td>39.25</td>\n",
       "      <td>0.43</td>\n",
       "      <td>23.00</td>\n",
       "      <td>0.00</td>\n",
       "      <td>33.00</td>\n",
       "      <td>0.00</td>\n",
       "      <td>0</td>\n",
       "    </tr>\n",
       "    <tr>\n",
       "      <th>2</th>\n",
       "      <td>500</td>\n",
       "      <td>39.25</td>\n",
       "      <td>0.43</td>\n",
       "      <td>23.25</td>\n",
       "      <td>0.43</td>\n",
       "      <td>33.00</td>\n",
       "      <td>0.00</td>\n",
       "      <td>0</td>\n",
       "    </tr>\n",
       "    <tr>\n",
       "      <th>3</th>\n",
       "      <td>750</td>\n",
       "      <td>39.50</td>\n",
       "      <td>0.50</td>\n",
       "      <td>23.00</td>\n",
       "      <td>0.71</td>\n",
       "      <td>33.00</td>\n",
       "      <td>0.00</td>\n",
       "      <td>0</td>\n",
       "    </tr>\n",
       "    <tr>\n",
       "      <th>4</th>\n",
       "      <td>1000</td>\n",
       "      <td>39.50</td>\n",
       "      <td>0.50</td>\n",
       "      <td>24.00</td>\n",
       "      <td>0.00</td>\n",
       "      <td>33.00</td>\n",
       "      <td>0.00</td>\n",
       "      <td>0</td>\n",
       "    </tr>\n",
       "    <tr>\n",
       "      <th>...</th>\n",
       "      <td>...</td>\n",
       "      <td>...</td>\n",
       "      <td>...</td>\n",
       "      <td>...</td>\n",
       "      <td>...</td>\n",
       "      <td>...</td>\n",
       "      <td>...</td>\n",
       "      <td>...</td>\n",
       "    </tr>\n",
       "    <tr>\n",
       "      <th>40794</th>\n",
       "      <td>118750</td>\n",
       "      <td>31.50</td>\n",
       "      <td>1.66</td>\n",
       "      <td>12.50</td>\n",
       "      <td>3.20</td>\n",
       "      <td>14.25</td>\n",
       "      <td>4.44</td>\n",
       "      <td>6</td>\n",
       "    </tr>\n",
       "    <tr>\n",
       "      <th>40795</th>\n",
       "      <td>119000</td>\n",
       "      <td>27.33</td>\n",
       "      <td>1.25</td>\n",
       "      <td>11.33</td>\n",
       "      <td>0.94</td>\n",
       "      <td>20.00</td>\n",
       "      <td>4.00</td>\n",
       "      <td>6</td>\n",
       "    </tr>\n",
       "    <tr>\n",
       "      <th>40796</th>\n",
       "      <td>119250</td>\n",
       "      <td>37.80</td>\n",
       "      <td>7.68</td>\n",
       "      <td>14.20</td>\n",
       "      <td>2.48</td>\n",
       "      <td>17.25</td>\n",
       "      <td>0.83</td>\n",
       "      <td>6</td>\n",
       "    </tr>\n",
       "    <tr>\n",
       "      <th>40797</th>\n",
       "      <td>119500</td>\n",
       "      <td>33.75</td>\n",
       "      <td>1.30</td>\n",
       "      <td>15.75</td>\n",
       "      <td>5.21</td>\n",
       "      <td>16.50</td>\n",
       "      <td>2.69</td>\n",
       "      <td>6</td>\n",
       "    </tr>\n",
       "    <tr>\n",
       "      <th>40798</th>\n",
       "      <td>119750</td>\n",
       "      <td>32.67</td>\n",
       "      <td>3.09</td>\n",
       "      <td>18.67</td>\n",
       "      <td>0.47</td>\n",
       "      <td>14.00</td>\n",
       "      <td>3.16</td>\n",
       "      <td>6</td>\n",
       "    </tr>\n",
       "  </tbody>\n",
       "</table>\n",
       "<p>40799 rows × 8 columns</p>\n",
       "</div>"
      ],
      "text/plain": [
       "       # Columns: time  avg_rss12  var_rss12  avg_rss13  var_rss13  avg_rss23  \\\n",
       "0                    0      39.25       0.43      22.75       0.43      33.75   \n",
       "1                  250      39.25       0.43      23.00       0.00      33.00   \n",
       "2                  500      39.25       0.43      23.25       0.43      33.00   \n",
       "3                  750      39.50       0.50      23.00       0.71      33.00   \n",
       "4                 1000      39.50       0.50      24.00       0.00      33.00   \n",
       "...                ...        ...        ...        ...        ...        ...   \n",
       "40794           118750      31.50       1.66      12.50       3.20      14.25   \n",
       "40795           119000      27.33       1.25      11.33       0.94      20.00   \n",
       "40796           119250      37.80       7.68      14.20       2.48      17.25   \n",
       "40797           119500      33.75       1.30      15.75       5.21      16.50   \n",
       "40798           119750      32.67       3.09      18.67       0.47      14.00   \n",
       "\n",
       "       var_rss23  label  \n",
       "0           1.30      0  \n",
       "1           0.00      0  \n",
       "2           0.00      0  \n",
       "3           0.00      0  \n",
       "4           0.00      0  \n",
       "...          ...    ...  \n",
       "40794       4.44      6  \n",
       "40795       4.00      6  \n",
       "40796       0.83      6  \n",
       "40797       2.69      6  \n",
       "40798       3.16      6  \n",
       "\n",
       "[40799 rows x 8 columns]"
      ]
     },
     "execution_count": 20,
     "metadata": {},
     "output_type": "execute_result"
    }
   ],
   "source": [
    "df[\"label\"] = LabelEncoder().fit_transform(df[\"label\"])\n",
    "df"
   ]
  },
  {
   "cell_type": "code",
   "execution_count": 21,
   "metadata": {},
   "outputs": [
    {
     "data": {
      "text/plain": [
       "# Columns: time    0.000008\n",
       "avg_rss12          0.027495\n",
       "var_rss12          0.305908\n",
       "avg_rss13         -0.096466\n",
       "var_rss13          0.168801\n",
       "avg_rss23         -0.388156\n",
       "var_rss23          0.227000\n",
       "label              1.000000\n",
       "dtype: float64"
      ]
     },
     "execution_count": 21,
     "metadata": {},
     "output_type": "execute_result"
    }
   ],
   "source": [
    "df.corrwith(df[\"label\"])"
   ]
  },
  {
   "cell_type": "code",
   "execution_count": 22,
   "metadata": {},
   "outputs": [],
   "source": [
    "df = df.drop(\"# Columns: time\", axis=1)"
   ]
  },
  {
   "cell_type": "code",
   "execution_count": 23,
   "metadata": {},
   "outputs": [
    {
     "data": {
      "text/html": [
       "<div>\n",
       "<style scoped>\n",
       "    .dataframe tbody tr th:only-of-type {\n",
       "        vertical-align: middle;\n",
       "    }\n",
       "\n",
       "    .dataframe tbody tr th {\n",
       "        vertical-align: top;\n",
       "    }\n",
       "\n",
       "    .dataframe thead th {\n",
       "        text-align: right;\n",
       "    }\n",
       "</style>\n",
       "<table border=\"1\" class=\"dataframe\">\n",
       "  <thead>\n",
       "    <tr style=\"text-align: right;\">\n",
       "      <th></th>\n",
       "      <th>avg_rss12</th>\n",
       "      <th>var_rss12</th>\n",
       "      <th>avg_rss13</th>\n",
       "      <th>var_rss13</th>\n",
       "      <th>avg_rss23</th>\n",
       "      <th>var_rss23</th>\n",
       "      <th>label</th>\n",
       "    </tr>\n",
       "  </thead>\n",
       "  <tbody>\n",
       "    <tr>\n",
       "      <th>0</th>\n",
       "      <td>39.25</td>\n",
       "      <td>0.43</td>\n",
       "      <td>22.75</td>\n",
       "      <td>0.43</td>\n",
       "      <td>33.75</td>\n",
       "      <td>1.30</td>\n",
       "      <td>0</td>\n",
       "    </tr>\n",
       "    <tr>\n",
       "      <th>1</th>\n",
       "      <td>39.25</td>\n",
       "      <td>0.43</td>\n",
       "      <td>23.00</td>\n",
       "      <td>0.00</td>\n",
       "      <td>33.00</td>\n",
       "      <td>0.00</td>\n",
       "      <td>0</td>\n",
       "    </tr>\n",
       "    <tr>\n",
       "      <th>2</th>\n",
       "      <td>39.25</td>\n",
       "      <td>0.43</td>\n",
       "      <td>23.25</td>\n",
       "      <td>0.43</td>\n",
       "      <td>33.00</td>\n",
       "      <td>0.00</td>\n",
       "      <td>0</td>\n",
       "    </tr>\n",
       "    <tr>\n",
       "      <th>3</th>\n",
       "      <td>39.50</td>\n",
       "      <td>0.50</td>\n",
       "      <td>23.00</td>\n",
       "      <td>0.71</td>\n",
       "      <td>33.00</td>\n",
       "      <td>0.00</td>\n",
       "      <td>0</td>\n",
       "    </tr>\n",
       "    <tr>\n",
       "      <th>4</th>\n",
       "      <td>39.50</td>\n",
       "      <td>0.50</td>\n",
       "      <td>24.00</td>\n",
       "      <td>0.00</td>\n",
       "      <td>33.00</td>\n",
       "      <td>0.00</td>\n",
       "      <td>0</td>\n",
       "    </tr>\n",
       "    <tr>\n",
       "      <th>...</th>\n",
       "      <td>...</td>\n",
       "      <td>...</td>\n",
       "      <td>...</td>\n",
       "      <td>...</td>\n",
       "      <td>...</td>\n",
       "      <td>...</td>\n",
       "      <td>...</td>\n",
       "    </tr>\n",
       "    <tr>\n",
       "      <th>40794</th>\n",
       "      <td>31.50</td>\n",
       "      <td>1.66</td>\n",
       "      <td>12.50</td>\n",
       "      <td>3.20</td>\n",
       "      <td>14.25</td>\n",
       "      <td>4.44</td>\n",
       "      <td>6</td>\n",
       "    </tr>\n",
       "    <tr>\n",
       "      <th>40795</th>\n",
       "      <td>27.33</td>\n",
       "      <td>1.25</td>\n",
       "      <td>11.33</td>\n",
       "      <td>0.94</td>\n",
       "      <td>20.00</td>\n",
       "      <td>4.00</td>\n",
       "      <td>6</td>\n",
       "    </tr>\n",
       "    <tr>\n",
       "      <th>40796</th>\n",
       "      <td>37.80</td>\n",
       "      <td>7.68</td>\n",
       "      <td>14.20</td>\n",
       "      <td>2.48</td>\n",
       "      <td>17.25</td>\n",
       "      <td>0.83</td>\n",
       "      <td>6</td>\n",
       "    </tr>\n",
       "    <tr>\n",
       "      <th>40797</th>\n",
       "      <td>33.75</td>\n",
       "      <td>1.30</td>\n",
       "      <td>15.75</td>\n",
       "      <td>5.21</td>\n",
       "      <td>16.50</td>\n",
       "      <td>2.69</td>\n",
       "      <td>6</td>\n",
       "    </tr>\n",
       "    <tr>\n",
       "      <th>40798</th>\n",
       "      <td>32.67</td>\n",
       "      <td>3.09</td>\n",
       "      <td>18.67</td>\n",
       "      <td>0.47</td>\n",
       "      <td>14.00</td>\n",
       "      <td>3.16</td>\n",
       "      <td>6</td>\n",
       "    </tr>\n",
       "  </tbody>\n",
       "</table>\n",
       "<p>40799 rows × 7 columns</p>\n",
       "</div>"
      ],
      "text/plain": [
       "       avg_rss12  var_rss12  avg_rss13  var_rss13  avg_rss23  var_rss23  label\n",
       "0          39.25       0.43      22.75       0.43      33.75       1.30      0\n",
       "1          39.25       0.43      23.00       0.00      33.00       0.00      0\n",
       "2          39.25       0.43      23.25       0.43      33.00       0.00      0\n",
       "3          39.50       0.50      23.00       0.71      33.00       0.00      0\n",
       "4          39.50       0.50      24.00       0.00      33.00       0.00      0\n",
       "...          ...        ...        ...        ...        ...        ...    ...\n",
       "40794      31.50       1.66      12.50       3.20      14.25       4.44      6\n",
       "40795      27.33       1.25      11.33       0.94      20.00       4.00      6\n",
       "40796      37.80       7.68      14.20       2.48      17.25       0.83      6\n",
       "40797      33.75       1.30      15.75       5.21      16.50       2.69      6\n",
       "40798      32.67       3.09      18.67       0.47      14.00       3.16      6\n",
       "\n",
       "[40799 rows x 7 columns]"
      ]
     },
     "execution_count": 23,
     "metadata": {},
     "output_type": "execute_result"
    }
   ],
   "source": [
    "df"
   ]
  },
  {
   "cell_type": "code",
   "execution_count": 24,
   "metadata": {},
   "outputs": [
    {
     "data": {
      "text/html": [
       "<div>\n",
       "<style scoped>\n",
       "    .dataframe tbody tr th:only-of-type {\n",
       "        vertical-align: middle;\n",
       "    }\n",
       "\n",
       "    .dataframe tbody tr th {\n",
       "        vertical-align: top;\n",
       "    }\n",
       "\n",
       "    .dataframe thead th {\n",
       "        text-align: right;\n",
       "    }\n",
       "</style>\n",
       "<table border=\"1\" class=\"dataframe\">\n",
       "  <thead>\n",
       "    <tr style=\"text-align: right;\">\n",
       "      <th></th>\n",
       "      <th>avg_rss12</th>\n",
       "      <th>var_rss12</th>\n",
       "      <th>avg_rss13</th>\n",
       "      <th>var_rss13</th>\n",
       "      <th>avg_rss23</th>\n",
       "      <th>var_rss23</th>\n",
       "      <th>label</th>\n",
       "    </tr>\n",
       "  </thead>\n",
       "  <tbody>\n",
       "    <tr>\n",
       "      <th>0</th>\n",
       "      <td>0.027492</td>\n",
       "      <td>-0.495589</td>\n",
       "      <td>1.557530</td>\n",
       "      <td>-0.645182</td>\n",
       "      <td>2.605057</td>\n",
       "      <td>-0.182038</td>\n",
       "      <td>0</td>\n",
       "    </tr>\n",
       "    <tr>\n",
       "      <th>1</th>\n",
       "      <td>0.027492</td>\n",
       "      <td>-0.495589</td>\n",
       "      <td>1.603571</td>\n",
       "      <td>-0.909776</td>\n",
       "      <td>2.495151</td>\n",
       "      <td>-0.984483</td>\n",
       "      <td>0</td>\n",
       "    </tr>\n",
       "    <tr>\n",
       "      <th>2</th>\n",
       "      <td>0.027492</td>\n",
       "      <td>-0.495589</td>\n",
       "      <td>1.649612</td>\n",
       "      <td>-0.645182</td>\n",
       "      <td>2.495151</td>\n",
       "      <td>-0.984483</td>\n",
       "      <td>0</td>\n",
       "    </tr>\n",
       "    <tr>\n",
       "      <th>3</th>\n",
       "      <td>0.066963</td>\n",
       "      <td>-0.461477</td>\n",
       "      <td>1.603571</td>\n",
       "      <td>-0.472889</td>\n",
       "      <td>2.495151</td>\n",
       "      <td>-0.984483</td>\n",
       "      <td>0</td>\n",
       "    </tr>\n",
       "    <tr>\n",
       "      <th>4</th>\n",
       "      <td>0.066963</td>\n",
       "      <td>-0.461477</td>\n",
       "      <td>1.787735</td>\n",
       "      <td>-0.909776</td>\n",
       "      <td>2.495151</td>\n",
       "      <td>-0.984483</td>\n",
       "      <td>0</td>\n",
       "    </tr>\n",
       "    <tr>\n",
       "      <th>...</th>\n",
       "      <td>...</td>\n",
       "      <td>...</td>\n",
       "      <td>...</td>\n",
       "      <td>...</td>\n",
       "      <td>...</td>\n",
       "      <td>...</td>\n",
       "      <td>...</td>\n",
       "    </tr>\n",
       "    <tr>\n",
       "      <th>40794</th>\n",
       "      <td>-1.196087</td>\n",
       "      <td>0.103808</td>\n",
       "      <td>-0.330146</td>\n",
       "      <td>1.059294</td>\n",
       "      <td>-0.252492</td>\n",
       "      <td>1.756175</td>\n",
       "      <td>6</td>\n",
       "    </tr>\n",
       "    <tr>\n",
       "      <th>40795</th>\n",
       "      <td>-1.854452</td>\n",
       "      <td>-0.095991</td>\n",
       "      <td>-0.545617</td>\n",
       "      <td>-0.331362</td>\n",
       "      <td>0.590118</td>\n",
       "      <td>1.484578</td>\n",
       "      <td>6</td>\n",
       "    </tr>\n",
       "    <tr>\n",
       "      <th>40796</th>\n",
       "      <td>-0.201436</td>\n",
       "      <td>3.037442</td>\n",
       "      <td>-0.017068</td>\n",
       "      <td>0.616253</td>\n",
       "      <td>0.187131</td>\n",
       "      <td>-0.472153</td>\n",
       "      <td>6</td>\n",
       "    </tr>\n",
       "    <tr>\n",
       "      <th>40797</th>\n",
       "      <td>-0.840855</td>\n",
       "      <td>-0.071625</td>\n",
       "      <td>0.268385</td>\n",
       "      <td>2.296116</td>\n",
       "      <td>0.077225</td>\n",
       "      <td>0.675961</td>\n",
       "      <td>6</td>\n",
       "    </tr>\n",
       "    <tr>\n",
       "      <th>40798</th>\n",
       "      <td>-1.011366</td>\n",
       "      <td>0.800668</td>\n",
       "      <td>0.806143</td>\n",
       "      <td>-0.620569</td>\n",
       "      <td>-0.289128</td>\n",
       "      <td>0.966075</td>\n",
       "      <td>6</td>\n",
       "    </tr>\n",
       "  </tbody>\n",
       "</table>\n",
       "<p>40799 rows × 7 columns</p>\n",
       "</div>"
      ],
      "text/plain": [
       "       avg_rss12  var_rss12  avg_rss13  var_rss13  avg_rss23  var_rss23  label\n",
       "0       0.027492  -0.495589   1.557530  -0.645182   2.605057  -0.182038      0\n",
       "1       0.027492  -0.495589   1.603571  -0.909776   2.495151  -0.984483      0\n",
       "2       0.027492  -0.495589   1.649612  -0.645182   2.495151  -0.984483      0\n",
       "3       0.066963  -0.461477   1.603571  -0.472889   2.495151  -0.984483      0\n",
       "4       0.066963  -0.461477   1.787735  -0.909776   2.495151  -0.984483      0\n",
       "...          ...        ...        ...        ...        ...        ...    ...\n",
       "40794  -1.196087   0.103808  -0.330146   1.059294  -0.252492   1.756175      6\n",
       "40795  -1.854452  -0.095991  -0.545617  -0.331362   0.590118   1.484578      6\n",
       "40796  -0.201436   3.037442  -0.017068   0.616253   0.187131  -0.472153      6\n",
       "40797  -0.840855  -0.071625   0.268385   2.296116   0.077225   0.675961      6\n",
       "40798  -1.011366   0.800668   0.806143  -0.620569  -0.289128   0.966075      6\n",
       "\n",
       "[40799 rows x 7 columns]"
      ]
     },
     "execution_count": 24,
     "metadata": {},
     "output_type": "execute_result"
    }
   ],
   "source": [
    "scaler = StandardScaler()\n",
    "df1 = pd.DataFrame(scaler.fit_transform(df.drop(\"label\", axis=1)), columns=df.columns[:-1])\n",
    "df1[\"label\"] = df[\"label\"]\n",
    "df1"
   ]
  },
  {
   "cell_type": "code",
   "execution_count": 25,
   "metadata": {},
   "outputs": [],
   "source": [
    "traindf, testdf = train_test_split(df1, test_size=0.2, stratify=df1[\"label\"], random_state=45)"
   ]
  },
  {
   "cell_type": "code",
   "execution_count": 26,
   "metadata": {},
   "outputs": [
    {
     "data": {
      "text/html": [
       "<div>\n",
       "<style scoped>\n",
       "    .dataframe tbody tr th:only-of-type {\n",
       "        vertical-align: middle;\n",
       "    }\n",
       "\n",
       "    .dataframe tbody tr th {\n",
       "        vertical-align: top;\n",
       "    }\n",
       "\n",
       "    .dataframe thead th {\n",
       "        text-align: right;\n",
       "    }\n",
       "</style>\n",
       "<table border=\"1\" class=\"dataframe\">\n",
       "  <thead>\n",
       "    <tr style=\"text-align: right;\">\n",
       "      <th></th>\n",
       "      <th>avg_rss12</th>\n",
       "      <th>var_rss12</th>\n",
       "      <th>avg_rss13</th>\n",
       "      <th>var_rss13</th>\n",
       "      <th>avg_rss23</th>\n",
       "      <th>var_rss23</th>\n",
       "      <th>label</th>\n",
       "    </tr>\n",
       "  </thead>\n",
       "  <tbody>\n",
       "    <tr>\n",
       "      <th>19979</th>\n",
       "      <td>-0.327741</td>\n",
       "      <td>-0.217819</td>\n",
       "      <td>-1.803454</td>\n",
       "      <td>-0.602109</td>\n",
       "      <td>0.736659</td>\n",
       "      <td>-0.984483</td>\n",
       "      <td>4</td>\n",
       "    </tr>\n",
       "    <tr>\n",
       "      <th>22621</th>\n",
       "      <td>0.935310</td>\n",
       "      <td>-0.705134</td>\n",
       "      <td>-1.803454</td>\n",
       "      <td>1.059294</td>\n",
       "      <td>0.297036</td>\n",
       "      <td>-0.546224</td>\n",
       "      <td>4</td>\n",
       "    </tr>\n",
       "    <tr>\n",
       "      <th>17943</th>\n",
       "      <td>0.066963</td>\n",
       "      <td>-0.461477</td>\n",
       "      <td>-0.606391</td>\n",
       "      <td>-0.909776</td>\n",
       "      <td>-0.911927</td>\n",
       "      <td>-0.472153</td>\n",
       "      <td>3</td>\n",
       "    </tr>\n",
       "    <tr>\n",
       "      <th>39942</th>\n",
       "      <td>-0.643503</td>\n",
       "      <td>0.137920</td>\n",
       "      <td>0.590672</td>\n",
       "      <td>1.108520</td>\n",
       "      <td>0.590118</td>\n",
       "      <td>-0.231419</td>\n",
       "      <td>6</td>\n",
       "    </tr>\n",
       "    <tr>\n",
       "      <th>30554</th>\n",
       "      <td>0.895839</td>\n",
       "      <td>-0.495589</td>\n",
       "      <td>0.728794</td>\n",
       "      <td>-0.645182</td>\n",
       "      <td>-0.069316</td>\n",
       "      <td>-0.293146</td>\n",
       "      <td>5</td>\n",
       "    </tr>\n",
       "    <tr>\n",
       "      <th>...</th>\n",
       "      <td>...</td>\n",
       "      <td>...</td>\n",
       "      <td>...</td>\n",
       "      <td>...</td>\n",
       "      <td>...</td>\n",
       "      <td>...</td>\n",
       "      <td>...</td>\n",
       "    </tr>\n",
       "    <tr>\n",
       "      <th>23794</th>\n",
       "      <td>0.935310</td>\n",
       "      <td>-0.705134</td>\n",
       "      <td>0.314426</td>\n",
       "      <td>-0.472889</td>\n",
       "      <td>1.103012</td>\n",
       "      <td>-0.447462</td>\n",
       "      <td>4</td>\n",
       "    </tr>\n",
       "    <tr>\n",
       "      <th>36914</th>\n",
       "      <td>0.264314</td>\n",
       "      <td>3.305465</td>\n",
       "      <td>-0.284105</td>\n",
       "      <td>2.056135</td>\n",
       "      <td>-0.289128</td>\n",
       "      <td>2.990705</td>\n",
       "      <td>6</td>\n",
       "    </tr>\n",
       "    <tr>\n",
       "      <th>38086</th>\n",
       "      <td>-0.209330</td>\n",
       "      <td>1.692454</td>\n",
       "      <td>0.452549</td>\n",
       "      <td>0.850080</td>\n",
       "      <td>-0.325763</td>\n",
       "      <td>-0.070930</td>\n",
       "      <td>6</td>\n",
       "    </tr>\n",
       "    <tr>\n",
       "      <th>20318</th>\n",
       "      <td>1.132661</td>\n",
       "      <td>-0.300663</td>\n",
       "      <td>0.314426</td>\n",
       "      <td>-0.159068</td>\n",
       "      <td>-0.399033</td>\n",
       "      <td>0.422882</td>\n",
       "      <td>4</td>\n",
       "    </tr>\n",
       "    <tr>\n",
       "      <th>27724</th>\n",
       "      <td>-0.090919</td>\n",
       "      <td>-0.461477</td>\n",
       "      <td>-0.744514</td>\n",
       "      <td>0.622406</td>\n",
       "      <td>0.663389</td>\n",
       "      <td>-0.447462</td>\n",
       "      <td>5</td>\n",
       "    </tr>\n",
       "  </tbody>\n",
       "</table>\n",
       "<p>8160 rows × 7 columns</p>\n",
       "</div>"
      ],
      "text/plain": [
       "       avg_rss12  var_rss12  avg_rss13  var_rss13  avg_rss23  var_rss23  label\n",
       "19979  -0.327741  -0.217819  -1.803454  -0.602109   0.736659  -0.984483      4\n",
       "22621   0.935310  -0.705134  -1.803454   1.059294   0.297036  -0.546224      4\n",
       "17943   0.066963  -0.461477  -0.606391  -0.909776  -0.911927  -0.472153      3\n",
       "39942  -0.643503   0.137920   0.590672   1.108520   0.590118  -0.231419      6\n",
       "30554   0.895839  -0.495589   0.728794  -0.645182  -0.069316  -0.293146      5\n",
       "...          ...        ...        ...        ...        ...        ...    ...\n",
       "23794   0.935310  -0.705134   0.314426  -0.472889   1.103012  -0.447462      4\n",
       "36914   0.264314   3.305465  -0.284105   2.056135  -0.289128   2.990705      6\n",
       "38086  -0.209330   1.692454   0.452549   0.850080  -0.325763  -0.070930      6\n",
       "20318   1.132661  -0.300663   0.314426  -0.159068  -0.399033   0.422882      4\n",
       "27724  -0.090919  -0.461477  -0.744514   0.622406   0.663389  -0.447462      5\n",
       "\n",
       "[8160 rows x 7 columns]"
      ]
     },
     "execution_count": 26,
     "metadata": {},
     "output_type": "execute_result"
    }
   ],
   "source": [
    "testdf"
   ]
  },
  {
   "cell_type": "code",
   "execution_count": 27,
   "metadata": {},
   "outputs": [],
   "source": [
    "from sklearn.ensemble import RandomForestClassifier\n",
    "from sklearn.linear_model import LogisticRegression\n",
    "from sklearn.metrics import classification_report, confusion_matrix"
   ]
  },
  {
   "cell_type": "code",
   "execution_count": 38,
   "metadata": {},
   "outputs": [
    {
     "data": {
      "text/plain": [
       "RandomForestClassifier(n_estimators=200)"
      ]
     },
     "execution_count": 38,
     "metadata": {},
     "output_type": "execute_result"
    }
   ],
   "source": [
    "rf_model = RandomForestClassifier(n_estimators=200, criterion=\"gini\")\n",
    "rf_model.fit(traindf.drop(\"label\", axis=1), traindf[\"label\"])"
   ]
  },
  {
   "cell_type": "code",
   "execution_count": 39,
   "metadata": {},
   "outputs": [],
   "source": [
    "pred = rf_model.predict(testdf.drop(\"label\", axis=1))"
   ]
  },
  {
   "cell_type": "code",
   "execution_count": 40,
   "metadata": {},
   "outputs": [
    {
     "name": "stdout",
     "output_type": "stream",
     "text": [
      "              precision    recall  f1-score   support\n",
      "\n",
      "           0       0.91      0.89      0.90       672\n",
      "           1       0.87      0.80      0.84       480\n",
      "           2       0.68      0.65      0.66      1248\n",
      "           3       0.95      0.99      0.97      1440\n",
      "           4       0.75      0.73      0.74      1440\n",
      "           5       0.78      0.78      0.78      1440\n",
      "           6       0.73      0.77      0.75      1440\n",
      "\n",
      "    accuracy                           0.80      8160\n",
      "   macro avg       0.81      0.80      0.81      8160\n",
      "weighted avg       0.80      0.80      0.80      8160\n",
      "\n"
     ]
    }
   ],
   "source": [
    "print(classification_report(testdf[\"label\"], pred))"
   ]
  },
  {
   "cell_type": "code",
   "execution_count": 31,
   "metadata": {},
   "outputs": [
    {
     "name": "stdout",
     "output_type": "stream",
     "text": [
      "              precision    recall  f1-score   support\n",
      "\n",
      "           0       0.88      0.79      0.83       672\n",
      "           1       0.67      0.66      0.67       480\n",
      "           2       0.61      0.58      0.60      1248\n",
      "           3       0.78      0.86      0.81      1440\n",
      "           4       0.52      0.51      0.51      1440\n",
      "           5       0.64      0.63      0.63      1440\n",
      "           6       0.70      0.72      0.71      1440\n",
      "\n",
      "    accuracy                           0.67      8160\n",
      "   macro avg       0.69      0.68      0.68      8160\n",
      "weighted avg       0.67      0.67      0.67      8160\n",
      "\n"
     ]
    }
   ],
   "source": [
    "lr_model = LogisticRegression(penalty=\"elasticnet\")\n",
    "lr_model.fit(traindf.drop(\"label\", axis=1), traindf[\"label\"])\n",
    "pred = lr_model.predict(testdf.drop(\"label\", axis=1))\n",
    "print(classification_report(testdf[\"label\"], pred))"
   ]
  },
  {
   "cell_type": "code",
   "execution_count": 83,
   "metadata": {},
   "outputs": [],
   "source": [
    "abc = [\"apple\", \"orange\"]"
   ]
  },
  {
   "cell_type": "code",
   "execution_count": 84,
   "metadata": {},
   "outputs": [
    {
     "data": {
      "text/plain": [
       "['apple', 'orange']"
      ]
     },
     "execution_count": 84,
     "metadata": {},
     "output_type": "execute_result"
    }
   ],
   "source": [
    "abc"
   ]
  },
  {
   "cell_type": "code",
   "execution_count": 99,
   "metadata": {},
   "outputs": [],
   "source": [
    "with open(\"bad_data_files.log\", \"w\") as f:\n",
    "    for file in abc:\n",
    "        f.write(file + \"\\n\")\n",
    "    f.close()"
   ]
  },
  {
   "cell_type": "code",
   "execution_count": 88,
   "metadata": {},
   "outputs": [
    {
     "data": {
      "text/plain": [
       "['apple', 'orange']"
      ]
     },
     "execution_count": 88,
     "metadata": {},
     "output_type": "execute_result"
    }
   ],
   "source": [
    "[file for file in abc]"
   ]
  },
  {
   "cell_type": "code",
   "execution_count": 89,
   "metadata": {},
   "outputs": [],
   "source": [
    "for file in abc:\n",
    "    file"
   ]
  },
  {
   "cell_type": "code",
   "execution_count": 64,
   "metadata": {},
   "outputs": [
    {
     "name": "stdout",
     "output_type": "stream",
     "text": [
      " * Serving Flask app '__main__' (lazy loading)\n",
      " * Environment: production\n",
      "\u001b[31m   WARNING: This is a development server. Do not use it in a production deployment.\u001b[0m\n",
      "\u001b[2m   Use a production WSGI server instead.\u001b[0m\n",
      " * Debug mode: off\n"
     ]
    },
    {
     "name": "stderr",
     "output_type": "stream",
     "text": [
      " * Running on http://127.0.0.1:5000 (Press CTRL+C to quit)\n",
      "127.0.0.1 - - [09/Jul/2022 22:54:48] \"POST / HTTP/1.1\" 200 -\n"
     ]
    }
   ],
   "source": [
    "from flask import Flask, jsonify, request\n",
    "import pickle\n",
    "import warnings\n",
    "warnings.filterwarnings(\"ignore\")\n",
    "\n",
    "app = Flask(__name__)\n",
    "\n",
    "@app.route(\"/\", methods=[\"POST\", \"GET\"])\n",
    "def prediction():\n",
    "    if (request.method == \"POST\"):\n",
    "\n",
    "        with open(\"C:\\\\Workspace\\\\actitivity_recognition_repo\\\\saved_models\\\\rfc_model.pkl\", \"rb\") as f:\n",
    "            rfc_model = pickle.load(f)\n",
    "        with open(\"C:\\\\Workspace\\\\actitivity_recognition_repo\\\\saved_artifacts\\\\std_scaler.pkl\", \"rb\") as f:\n",
    "            std_scaler = pickle.load(f)\n",
    "        with open(\"C:\\\\Workspace\\\\actitivity_recognition_repo\\\\saved_artifacts\\\\label_encoder.pkl\", \"rb\") as f:\n",
    "            label_encoder = pickle.load(f)\n",
    "\n",
    "        avgrss12 = request.json[\"avgrss12\"]\n",
    "        varrss12 = request.json[\"varrss12\"]\n",
    "        avgrss13 = request.json[\"avgrss13\"]\n",
    "        varrss13 = request.json[\"varrss13\"]\n",
    "        avgrss23 = request.json[\"avgrss23\"]\n",
    "        varrss23 = request.json[\"varrss23\"]\n",
    "\n",
    "        raw_input = [avgrss12, varrss12, avgrss13, varrss13, avgrss23, varrss23]\n",
    "        trf_input = std_scaler.transform([raw_input])\n",
    "        raw_pred = rfc_model.predict(trf_input)\n",
    "        trf_pred = label_encoder.inverse_transform(raw_pred)[0]\n",
    "        return_statement = f\"The prediction is {trf_pred}.\"\n",
    "        \n",
    "        return jsonify(return_statement)\n",
    "\n",
    "\n",
    "if __name__ == '__main__':\n",
    "    app.run()"
   ]
  },
  {
   "cell_type": "code",
   "execution_count": 50,
   "metadata": {},
   "outputs": [],
   "source": [
    "import pickle\n",
    "with open(\"C:\\\\Workspace\\\\actitivity_recognition_repo\\\\saved_models\\\\rfc_model.pkl\", \"rb\") as f:\n",
    "            rfc_model = pickle.load(f)\n",
    "with open(\"C:\\\\Workspace\\\\actitivity_recognition_repo\\\\saved_artifacts\\\\std_scaler.pkl\", \"rb\") as f:\n",
    "    std_scaler = pickle.load(f)\n",
    "with open(\"C:\\\\Workspace\\\\actitivity_recognition_repo\\\\saved_artifacts\\\\label_encoder.pkl\", \"rb\") as f:\n",
    "    label_encoder = pickle.load(f)"
   ]
  },
  {
   "cell_type": "code",
   "execution_count": 57,
   "metadata": {},
   "outputs": [
    {
     "name": "stderr",
     "output_type": "stream",
     "text": [
      "c:\\Users\\rishi\\anaconda3\\envs\\activity_recog\\lib\\site-packages\\sklearn\\base.py:451: UserWarning: X does not have valid feature names, but StandardScaler was fitted with feature names\n",
      "  \"X does not have valid feature names, but\"\n"
     ]
    },
    {
     "data": {
      "text/plain": [
       "array([[ 0.02749229, -0.49558871,  1.5575303 , -0.64518217,  2.60505716,\n",
       "        -0.18203791]])"
      ]
     },
     "execution_count": 57,
     "metadata": {},
     "output_type": "execute_result"
    }
   ],
   "source": [
    "std_scaler.transform([[39.25, 0.43, 22.75, 0.43, 33.75, 1.3]])"
   ]
  },
  {
   "cell_type": "code",
   "execution_count": 59,
   "metadata": {},
   "outputs": [
    {
     "name": "stderr",
     "output_type": "stream",
     "text": [
      "c:\\Users\\rishi\\anaconda3\\envs\\activity_recog\\lib\\site-packages\\sklearn\\base.py:451: UserWarning: X does not have valid feature names, but StandardScaler was fitted with feature names\n",
      "  \"X does not have valid feature names, but\"\n",
      "c:\\Users\\rishi\\anaconda3\\envs\\activity_recog\\lib\\site-packages\\sklearn\\base.py:451: UserWarning: X does not have valid feature names, but RandomForestClassifier was fitted with feature names\n",
      "  \"X does not have valid feature names, but\"\n"
     ]
    },
    {
     "data": {
      "text/plain": [
       "array([0], dtype=int64)"
      ]
     },
     "execution_count": 59,
     "metadata": {},
     "output_type": "execute_result"
    }
   ],
   "source": [
    "rfc_model.predict(std_scaler.transform([[39.25, 0.43, 22.75, 0.43, 33.75, 1.3]]))"
   ]
  },
  {
   "cell_type": "code",
   "execution_count": 51,
   "metadata": {},
   "outputs": [
    {
     "data": {
      "text/plain": [
       "array(['bending1', 'bending2', 'cycling', 'lying', 'sitting', 'standing',\n",
       "       'walking'], dtype=object)"
      ]
     },
     "execution_count": 51,
     "metadata": {},
     "output_type": "execute_result"
    }
   ],
   "source": [
    "label_encoder.classes_"
   ]
  },
  {
   "cell_type": "code",
   "execution_count": 60,
   "metadata": {},
   "outputs": [
    {
     "name": "stderr",
     "output_type": "stream",
     "text": [
      "c:\\Users\\rishi\\anaconda3\\envs\\activity_recog\\lib\\site-packages\\sklearn\\base.py:451: UserWarning: X does not have valid feature names, but StandardScaler was fitted with feature names\n",
      "  \"X does not have valid feature names, but\"\n",
      "c:\\Users\\rishi\\anaconda3\\envs\\activity_recog\\lib\\site-packages\\sklearn\\base.py:451: UserWarning: X does not have valid feature names, but RandomForestClassifier was fitted with feature names\n",
      "  \"X does not have valid feature names, but\"\n"
     ]
    },
    {
     "data": {
      "text/plain": [
       "array(['bending1'], dtype=object)"
      ]
     },
     "execution_count": 60,
     "metadata": {},
     "output_type": "execute_result"
    }
   ],
   "source": [
    "label_encoder.inverse_transform(rfc_model.predict(std_scaler.transform([[39.25, 0.43, 22.75, 0.43, 33.75, 1.3]])))"
   ]
  },
  {
   "cell_type": "code",
   "execution_count": 37,
   "metadata": {},
   "outputs": [],
   "source": [
    "vart = 'bending1\\n'"
   ]
  },
  {
   "cell_type": "code",
   "execution_count": 42,
   "metadata": {},
   "outputs": [
    {
     "data": {
      "text/plain": [
       "'bending1\\n'"
      ]
     },
     "execution_count": 42,
     "metadata": {},
     "output_type": "execute_result"
    }
   ],
   "source": [
    "vart"
   ]
  },
  {
   "cell_type": "code",
   "execution_count": 44,
   "metadata": {},
   "outputs": [],
   "source": [
    "with open(\"C:\\\\Workspace\\\\actitivity_recognition_repo\\\\data\\external\\\\bending1\\\\dataset1.csv\", \"r\") as f:\n",
    "    var_y = f.readline()"
   ]
  },
  {
   "cell_type": "code",
   "execution_count": 49,
   "metadata": {},
   "outputs": [
    {
     "data": {
      "text/plain": [
       "'# Task: bending1'"
      ]
     },
     "execution_count": 49,
     "metadata": {},
     "output_type": "execute_result"
    }
   ],
   "source": [
    "(str(var_y)).replace(\"\\n\", \"\")"
   ]
  },
  {
   "cell_type": "code",
   "execution_count": 65,
   "metadata": {},
   "outputs": [],
   "source": [
    "import pandas as pd"
   ]
  },
  {
   "cell_type": "code",
   "execution_count": 66,
   "metadata": {},
   "outputs": [
    {
     "data": {
      "text/html": [
       "<div>\n",
       "<style scoped>\n",
       "    .dataframe tbody tr th:only-of-type {\n",
       "        vertical-align: middle;\n",
       "    }\n",
       "\n",
       "    .dataframe tbody tr th {\n",
       "        vertical-align: top;\n",
       "    }\n",
       "\n",
       "    .dataframe thead th {\n",
       "        text-align: right;\n",
       "    }\n",
       "</style>\n",
       "<table border=\"1\" class=\"dataframe\">\n",
       "  <thead>\n",
       "    <tr style=\"text-align: right;\">\n",
       "      <th></th>\n",
       "      <th># Columns: time</th>\n",
       "      <th>avg_rss12</th>\n",
       "      <th>var_rss12</th>\n",
       "      <th>avg_rss13</th>\n",
       "      <th>var_rss13</th>\n",
       "      <th>avg_rss23</th>\n",
       "      <th>var_rss23</th>\n",
       "      <th>label</th>\n",
       "    </tr>\n",
       "  </thead>\n",
       "  <tbody>\n",
       "    <tr>\n",
       "      <th>0</th>\n",
       "      <td>0</td>\n",
       "      <td>39.25</td>\n",
       "      <td>0.43</td>\n",
       "      <td>22.75</td>\n",
       "      <td>0.43</td>\n",
       "      <td>33.75</td>\n",
       "      <td>1.30</td>\n",
       "      <td>bending1</td>\n",
       "    </tr>\n",
       "    <tr>\n",
       "      <th>1</th>\n",
       "      <td>250</td>\n",
       "      <td>39.25</td>\n",
       "      <td>0.43</td>\n",
       "      <td>23.00</td>\n",
       "      <td>0.00</td>\n",
       "      <td>33.00</td>\n",
       "      <td>0.00</td>\n",
       "      <td>bending1</td>\n",
       "    </tr>\n",
       "    <tr>\n",
       "      <th>2</th>\n",
       "      <td>500</td>\n",
       "      <td>39.25</td>\n",
       "      <td>0.43</td>\n",
       "      <td>23.25</td>\n",
       "      <td>0.43</td>\n",
       "      <td>33.00</td>\n",
       "      <td>0.00</td>\n",
       "      <td>bending1</td>\n",
       "    </tr>\n",
       "    <tr>\n",
       "      <th>3</th>\n",
       "      <td>750</td>\n",
       "      <td>39.50</td>\n",
       "      <td>0.50</td>\n",
       "      <td>23.00</td>\n",
       "      <td>0.71</td>\n",
       "      <td>33.00</td>\n",
       "      <td>0.00</td>\n",
       "      <td>bending1</td>\n",
       "    </tr>\n",
       "    <tr>\n",
       "      <th>4</th>\n",
       "      <td>1000</td>\n",
       "      <td>39.50</td>\n",
       "      <td>0.50</td>\n",
       "      <td>24.00</td>\n",
       "      <td>0.00</td>\n",
       "      <td>33.00</td>\n",
       "      <td>0.00</td>\n",
       "      <td>bending1</td>\n",
       "    </tr>\n",
       "    <tr>\n",
       "      <th>...</th>\n",
       "      <td>...</td>\n",
       "      <td>...</td>\n",
       "      <td>...</td>\n",
       "      <td>...</td>\n",
       "      <td>...</td>\n",
       "      <td>...</td>\n",
       "      <td>...</td>\n",
       "      <td>...</td>\n",
       "    </tr>\n",
       "    <tr>\n",
       "      <th>40794</th>\n",
       "      <td>118750</td>\n",
       "      <td>31.50</td>\n",
       "      <td>1.66</td>\n",
       "      <td>12.50</td>\n",
       "      <td>3.20</td>\n",
       "      <td>14.25</td>\n",
       "      <td>4.44</td>\n",
       "      <td>walking</td>\n",
       "    </tr>\n",
       "    <tr>\n",
       "      <th>40795</th>\n",
       "      <td>119000</td>\n",
       "      <td>27.33</td>\n",
       "      <td>1.25</td>\n",
       "      <td>11.33</td>\n",
       "      <td>0.94</td>\n",
       "      <td>20.00</td>\n",
       "      <td>4.00</td>\n",
       "      <td>walking</td>\n",
       "    </tr>\n",
       "    <tr>\n",
       "      <th>40796</th>\n",
       "      <td>119250</td>\n",
       "      <td>37.80</td>\n",
       "      <td>7.68</td>\n",
       "      <td>14.20</td>\n",
       "      <td>2.48</td>\n",
       "      <td>17.25</td>\n",
       "      <td>0.83</td>\n",
       "      <td>walking</td>\n",
       "    </tr>\n",
       "    <tr>\n",
       "      <th>40797</th>\n",
       "      <td>119500</td>\n",
       "      <td>33.75</td>\n",
       "      <td>1.30</td>\n",
       "      <td>15.75</td>\n",
       "      <td>5.21</td>\n",
       "      <td>16.50</td>\n",
       "      <td>2.69</td>\n",
       "      <td>walking</td>\n",
       "    </tr>\n",
       "    <tr>\n",
       "      <th>40798</th>\n",
       "      <td>119750</td>\n",
       "      <td>32.67</td>\n",
       "      <td>3.09</td>\n",
       "      <td>18.67</td>\n",
       "      <td>0.47</td>\n",
       "      <td>14.00</td>\n",
       "      <td>3.16</td>\n",
       "      <td>walking</td>\n",
       "    </tr>\n",
       "  </tbody>\n",
       "</table>\n",
       "<p>40799 rows × 8 columns</p>\n",
       "</div>"
      ],
      "text/plain": [
       "       # Columns: time  avg_rss12  var_rss12  avg_rss13  var_rss13  avg_rss23  \\\n",
       "0                    0      39.25       0.43      22.75       0.43      33.75   \n",
       "1                  250      39.25       0.43      23.00       0.00      33.00   \n",
       "2                  500      39.25       0.43      23.25       0.43      33.00   \n",
       "3                  750      39.50       0.50      23.00       0.71      33.00   \n",
       "4                 1000      39.50       0.50      24.00       0.00      33.00   \n",
       "...                ...        ...        ...        ...        ...        ...   \n",
       "40794           118750      31.50       1.66      12.50       3.20      14.25   \n",
       "40795           119000      27.33       1.25      11.33       0.94      20.00   \n",
       "40796           119250      37.80       7.68      14.20       2.48      17.25   \n",
       "40797           119500      33.75       1.30      15.75       5.21      16.50   \n",
       "40798           119750      32.67       3.09      18.67       0.47      14.00   \n",
       "\n",
       "       var_rss23     label  \n",
       "0           1.30  bending1  \n",
       "1           0.00  bending1  \n",
       "2           0.00  bending1  \n",
       "3           0.00  bending1  \n",
       "4           0.00  bending1  \n",
       "...          ...       ...  \n",
       "40794       4.44   walking  \n",
       "40795       4.00   walking  \n",
       "40796       0.83   walking  \n",
       "40797       2.69   walking  \n",
       "40798       3.16   walking  \n",
       "\n",
       "[40799 rows x 8 columns]"
      ]
     },
     "execution_count": 66,
     "metadata": {},
     "output_type": "execute_result"
    }
   ],
   "source": [
    "df = pd.read_csv(\"C:\\\\Workspace\\\\actitivity_recognition_repo\\\\data\\\\raw\\\\master_dataset.csv\")\n",
    "df"
   ]
  },
  {
   "cell_type": "code",
   "execution_count": 68,
   "metadata": {},
   "outputs": [
    {
     "data": {
      "text/html": [
       "<div>\n",
       "<style scoped>\n",
       "    .dataframe tbody tr th:only-of-type {\n",
       "        vertical-align: middle;\n",
       "    }\n",
       "\n",
       "    .dataframe tbody tr th {\n",
       "        vertical-align: top;\n",
       "    }\n",
       "\n",
       "    .dataframe thead th {\n",
       "        text-align: right;\n",
       "    }\n",
       "</style>\n",
       "<table border=\"1\" class=\"dataframe\">\n",
       "  <thead>\n",
       "    <tr style=\"text-align: right;\">\n",
       "      <th></th>\n",
       "      <th>count</th>\n",
       "      <th>mean</th>\n",
       "      <th>std</th>\n",
       "      <th>min</th>\n",
       "      <th>25%</th>\n",
       "      <th>50%</th>\n",
       "      <th>75%</th>\n",
       "      <th>max</th>\n",
       "    </tr>\n",
       "  </thead>\n",
       "  <tbody>\n",
       "    <tr>\n",
       "      <th># Columns: time</th>\n",
       "      <td>40799.0</td>\n",
       "      <td>59876.136670</td>\n",
       "      <td>34641.029173</td>\n",
       "      <td>0.0</td>\n",
       "      <td>30000.00</td>\n",
       "      <td>60000.00</td>\n",
       "      <td>89875.00</td>\n",
       "      <td>119750.00</td>\n",
       "    </tr>\n",
       "    <tr>\n",
       "      <th>avg_rss12</th>\n",
       "      <td>40799.0</td>\n",
       "      <td>39.075867</td>\n",
       "      <td>6.333952</td>\n",
       "      <td>0.0</td>\n",
       "      <td>35.25</td>\n",
       "      <td>40.00</td>\n",
       "      <td>44.00</td>\n",
       "      <td>56.25</td>\n",
       "    </tr>\n",
       "    <tr>\n",
       "      <th>var_rss12</th>\n",
       "      <td>40799.0</td>\n",
       "      <td>1.446979</td>\n",
       "      <td>2.052088</td>\n",
       "      <td>0.0</td>\n",
       "      <td>0.00</td>\n",
       "      <td>0.50</td>\n",
       "      <td>1.79</td>\n",
       "      <td>17.24</td>\n",
       "    </tr>\n",
       "    <tr>\n",
       "      <th>avg_rss13</th>\n",
       "      <td>40799.0</td>\n",
       "      <td>14.292679</td>\n",
       "      <td>5.430023</td>\n",
       "      <td>0.0</td>\n",
       "      <td>11.50</td>\n",
       "      <td>15.00</td>\n",
       "      <td>18.00</td>\n",
       "      <td>35.00</td>\n",
       "    </tr>\n",
       "    <tr>\n",
       "      <th>var_rss13</th>\n",
       "      <td>40799.0</td>\n",
       "      <td>1.478507</td>\n",
       "      <td>1.625153</td>\n",
       "      <td>0.0</td>\n",
       "      <td>0.43</td>\n",
       "      <td>0.83</td>\n",
       "      <td>2.28</td>\n",
       "      <td>11.42</td>\n",
       "    </tr>\n",
       "    <tr>\n",
       "      <th>avg_rss23</th>\n",
       "      <td>40799.0</td>\n",
       "      <td>15.973015</td>\n",
       "      <td>6.824112</td>\n",
       "      <td>0.0</td>\n",
       "      <td>12.00</td>\n",
       "      <td>15.75</td>\n",
       "      <td>19.25</td>\n",
       "      <td>40.33</td>\n",
       "    </tr>\n",
       "    <tr>\n",
       "      <th>var_rss23</th>\n",
       "      <td>40799.0</td>\n",
       "      <td>1.594910</td>\n",
       "      <td>1.620069</td>\n",
       "      <td>0.0</td>\n",
       "      <td>0.47</td>\n",
       "      <td>1.00</td>\n",
       "      <td>2.28</td>\n",
       "      <td>13.61</td>\n",
       "    </tr>\n",
       "  </tbody>\n",
       "</table>\n",
       "</div>"
      ],
      "text/plain": [
       "                   count          mean           std  min       25%       50%  \\\n",
       "# Columns: time  40799.0  59876.136670  34641.029173  0.0  30000.00  60000.00   \n",
       "avg_rss12        40799.0     39.075867      6.333952  0.0     35.25     40.00   \n",
       "var_rss12        40799.0      1.446979      2.052088  0.0      0.00      0.50   \n",
       "avg_rss13        40799.0     14.292679      5.430023  0.0     11.50     15.00   \n",
       "var_rss13        40799.0      1.478507      1.625153  0.0      0.43      0.83   \n",
       "avg_rss23        40799.0     15.973015      6.824112  0.0     12.00     15.75   \n",
       "var_rss23        40799.0      1.594910      1.620069  0.0      0.47      1.00   \n",
       "\n",
       "                      75%        max  \n",
       "# Columns: time  89875.00  119750.00  \n",
       "avg_rss12           44.00      56.25  \n",
       "var_rss12            1.79      17.24  \n",
       "avg_rss13           18.00      35.00  \n",
       "var_rss13            2.28      11.42  \n",
       "avg_rss23           19.25      40.33  \n",
       "var_rss23            2.28      13.61  "
      ]
     },
     "execution_count": 68,
     "metadata": {},
     "output_type": "execute_result"
    }
   ],
   "source": [
    "df.describe().T"
   ]
  },
  {
   "cell_type": "code",
   "execution_count": null,
   "metadata": {},
   "outputs": [],
   "source": []
  }
 ],
 "metadata": {
  "kernelspec": {
   "display_name": "Python 3.7.13 ('activity_recog')",
   "language": "python",
   "name": "python3"
  },
  "language_info": {
   "codemirror_mode": {
    "name": "ipython",
    "version": 3
   },
   "file_extension": ".py",
   "mimetype": "text/x-python",
   "name": "python",
   "nbconvert_exporter": "python",
   "pygments_lexer": "ipython3",
   "version": "3.7.13"
  },
  "orig_nbformat": 4,
  "vscode": {
   "interpreter": {
    "hash": "0c04d5cd96a1e555b0d6410e4a27a8cd23f8135bd97d0a009b751b608e7e6129"
   }
  }
 },
 "nbformat": 4,
 "nbformat_minor": 2
}
